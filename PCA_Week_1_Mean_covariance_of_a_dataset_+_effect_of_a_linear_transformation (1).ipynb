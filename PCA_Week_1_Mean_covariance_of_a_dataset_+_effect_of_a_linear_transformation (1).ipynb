{
  "nbformat": 4,
  "nbformat_minor": 0,
  "metadata": {
    "colab": {
      "name": "PCA Week 1 : Mean/covariance of a dataset + effect of a linear transformation.ipynb",
      "provenance": [],
      "collapsed_sections": []
    },
    "kernelspec": {
      "name": "python3",
      "display_name": "Python 3"
    },
    "language_info": {
      "name": "python"
    },
    "widgets": {
      "application/vnd.jupyter.widget-state+json": {
        "94f07a57f9d84b02831b9b2cc925fc56": {
          "model_module": "@jupyter-widgets/controls",
          "model_name": "VBoxModel",
          "state": {
            "_view_name": "VBoxView",
            "_dom_classes": [
              "widget-interact"
            ],
            "_model_name": "VBoxModel",
            "_view_module": "@jupyter-widgets/controls",
            "_model_module_version": "1.5.0",
            "_view_count": null,
            "_view_module_version": "1.5.0",
            "box_style": "",
            "layout": "IPY_MODEL_5a4a181e42304e3f86f716df40e9b45e",
            "_model_module": "@jupyter-widgets/controls",
            "children": [
              "IPY_MODEL_1406d9ee57d44b259d545f425aedabbd",
              "IPY_MODEL_47807fbf5825469fb477d24459d5463c"
            ]
          }
        },
        "5a4a181e42304e3f86f716df40e9b45e": {
          "model_module": "@jupyter-widgets/base",
          "model_name": "LayoutModel",
          "state": {
            "_view_name": "LayoutView",
            "grid_template_rows": null,
            "right": null,
            "justify_content": null,
            "_view_module": "@jupyter-widgets/base",
            "overflow": null,
            "_model_module_version": "1.2.0",
            "_view_count": null,
            "flex_flow": null,
            "width": null,
            "min_width": null,
            "border": null,
            "align_items": null,
            "bottom": null,
            "_model_module": "@jupyter-widgets/base",
            "top": null,
            "grid_column": null,
            "overflow_y": null,
            "overflow_x": null,
            "grid_auto_flow": null,
            "grid_area": null,
            "grid_template_columns": null,
            "flex": null,
            "_model_name": "LayoutModel",
            "justify_items": null,
            "grid_row": null,
            "max_height": null,
            "align_content": null,
            "visibility": null,
            "align_self": null,
            "height": null,
            "min_height": null,
            "padding": null,
            "grid_auto_rows": null,
            "grid_gap": null,
            "max_width": null,
            "order": null,
            "_view_module_version": "1.2.0",
            "grid_template_areas": null,
            "object_position": null,
            "object_fit": null,
            "grid_auto_columns": null,
            "margin": null,
            "display": null,
            "left": null
          }
        },
        "1406d9ee57d44b259d545f425aedabbd": {
          "model_module": "@jupyter-widgets/controls",
          "model_name": "IntSliderModel",
          "state": {
            "_view_name": "IntSliderView",
            "style": "IPY_MODEL_e1609d4dce3c44c583fcdd2f63af6c00",
            "_dom_classes": [],
            "description": "n",
            "step": 1,
            "_model_name": "IntSliderModel",
            "orientation": "horizontal",
            "max": 399,
            "_view_module": "@jupyter-widgets/controls",
            "_model_module_version": "1.5.0",
            "value": 0,
            "_view_count": null,
            "disabled": false,
            "_view_module_version": "1.5.0",
            "min": 0,
            "continuous_update": true,
            "readout_format": "d",
            "description_tooltip": null,
            "readout": true,
            "_model_module": "@jupyter-widgets/controls",
            "layout": "IPY_MODEL_f8bb3295864e4bbeb6fd302e12ef6a22"
          }
        },
        "47807fbf5825469fb477d24459d5463c": {
          "model_module": "@jupyter-widgets/output",
          "model_name": "OutputModel",
          "state": {
            "_view_name": "OutputView",
            "msg_id": "",
            "_dom_classes": [],
            "_model_name": "OutputModel",
            "outputs": [
              {
                "output_type": "display_data",
                "metadata": {
                  "tags": [],
                  "needs_background": "light"
                },
                "image/png": "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\n",
                "text/plain": "<Figure size 432x288 with 1 Axes>"
              }
            ],
            "_view_module": "@jupyter-widgets/output",
            "_model_module_version": "1.0.0",
            "_view_count": null,
            "_view_module_version": "1.0.0",
            "layout": "IPY_MODEL_8c6bd7275aa440c99661f531493ed288",
            "_model_module": "@jupyter-widgets/output"
          }
        },
        "e1609d4dce3c44c583fcdd2f63af6c00": {
          "model_module": "@jupyter-widgets/controls",
          "model_name": "SliderStyleModel",
          "state": {
            "_view_name": "StyleView",
            "handle_color": null,
            "_model_name": "SliderStyleModel",
            "description_width": "",
            "_view_module": "@jupyter-widgets/base",
            "_model_module_version": "1.5.0",
            "_view_count": null,
            "_view_module_version": "1.2.0",
            "_model_module": "@jupyter-widgets/controls"
          }
        },
        "f8bb3295864e4bbeb6fd302e12ef6a22": {
          "model_module": "@jupyter-widgets/base",
          "model_name": "LayoutModel",
          "state": {
            "_view_name": "LayoutView",
            "grid_template_rows": null,
            "right": null,
            "justify_content": null,
            "_view_module": "@jupyter-widgets/base",
            "overflow": null,
            "_model_module_version": "1.2.0",
            "_view_count": null,
            "flex_flow": null,
            "width": null,
            "min_width": null,
            "border": null,
            "align_items": null,
            "bottom": null,
            "_model_module": "@jupyter-widgets/base",
            "top": null,
            "grid_column": null,
            "overflow_y": null,
            "overflow_x": null,
            "grid_auto_flow": null,
            "grid_area": null,
            "grid_template_columns": null,
            "flex": null,
            "_model_name": "LayoutModel",
            "justify_items": null,
            "grid_row": null,
            "max_height": null,
            "align_content": null,
            "visibility": null,
            "align_self": null,
            "height": null,
            "min_height": null,
            "padding": null,
            "grid_auto_rows": null,
            "grid_gap": null,
            "max_width": null,
            "order": null,
            "_view_module_version": "1.2.0",
            "grid_template_areas": null,
            "object_position": null,
            "object_fit": null,
            "grid_auto_columns": null,
            "margin": null,
            "display": null,
            "left": null
          }
        },
        "8c6bd7275aa440c99661f531493ed288": {
          "model_module": "@jupyter-widgets/base",
          "model_name": "LayoutModel",
          "state": {
            "_view_name": "LayoutView",
            "grid_template_rows": null,
            "right": null,
            "justify_content": null,
            "_view_module": "@jupyter-widgets/base",
            "overflow": null,
            "_model_module_version": "1.2.0",
            "_view_count": null,
            "flex_flow": null,
            "width": null,
            "min_width": null,
            "border": null,
            "align_items": null,
            "bottom": null,
            "_model_module": "@jupyter-widgets/base",
            "top": null,
            "grid_column": null,
            "overflow_y": null,
            "overflow_x": null,
            "grid_auto_flow": null,
            "grid_area": null,
            "grid_template_columns": null,
            "flex": null,
            "_model_name": "LayoutModel",
            "justify_items": null,
            "grid_row": null,
            "max_height": null,
            "align_content": null,
            "visibility": null,
            "align_self": null,
            "height": null,
            "min_height": null,
            "padding": null,
            "grid_auto_rows": null,
            "grid_gap": null,
            "max_width": null,
            "order": null,
            "_view_module_version": "1.2.0",
            "grid_template_areas": null,
            "object_position": null,
            "object_fit": null,
            "grid_auto_columns": null,
            "margin": null,
            "display": null,
            "left": null
          }
        }
      }
    }
  },
  "cells": [
    {
      "cell_type": "markdown",
      "metadata": {
        "id": "3PNzRpVmzH21"
      },
      "source": [
        "# **Week 1: Mean/Covariance of a data set and effect of a linear transformation**\n",
        "\n",
        "In this week, we are going to investigate how the mean and (co)variance of a dataset changes when we apply affine transformation to the dataset.\n"
      ]
    },
    {
      "cell_type": "markdown",
      "metadata": {
        "id": "KEX08hcmzjXM"
      },
      "source": [
        "# **Learning objectives**\n",
        "\n",
        "1.   Get Farmiliar with basic programming using Python and Numpy/Scipy.\n",
        "2.   Learn to appreciate implementing functions to compute statistics of dataset in vectorized way.\n",
        "1.   Understand the effects of affine transformations on a dataset.\n",
        "2.   Understand the importance of testing in programming for machine learning.\n"
      ]
    },
    {
      "cell_type": "markdown",
      "metadata": {
        "id": "g00YbJf_0K70"
      },
      "source": [
        "First, let's import the packages that we will use for the week"
      ]
    },
    {
      "cell_type": "code",
      "metadata": {
        "id": "DZvyo83q0M-Y"
      },
      "source": [
        "# PACKAGE: DO NOT EDIT\n",
        "import numpy as np\n",
        "import matplotlib\n",
        "import matplotlib.pyplot as plt\n",
        "matplotlib.style.use('fivethirtyeight')\n",
        "from sklearn.datasets import fetch_olivetti_faces\n",
        "import time\n",
        "import timeit"
      ],
      "execution_count": 1,
      "outputs": []
    },
    {
      "cell_type": "code",
      "metadata": {
        "id": "iDSs1fjp0Rqp"
      },
      "source": [
        "%matplotlib inline\n",
        "from ipywidgets import interact"
      ],
      "execution_count": 2,
      "outputs": []
    },
    {
      "cell_type": "markdown",
      "metadata": {
        "id": "u7MFM1LB0U7v"
      },
      "source": [
        "Next, we are going to retrieve Olivetti faces dataset.\n",
        "\n",
        "When working with some datasets, before digging into further analysis, it is almost always useful to do a few things to understand your dataset. First of all, answer the following set of questions:\n",
        "\n",
        "1.   What is the size of your dataset?\n",
        "2.   What is the dimensionality of your data?\n",
        "\n",
        "The dataset we have are usually stored as 2D matrices, then it would be really important to know which dimension represents the dimension of the dataset, and which represents the data points in the dataset.\n",
        "\n",
        "**When you implement the functions for your assignment, make sure you read the docstring for what each dimension of your inputs represents the data points, and which represents the dimensions of the dataset!**\n"
      ]
    },
    {
      "cell_type": "code",
      "metadata": {
        "colab": {
          "base_uri": "https://localhost:8080/"
        },
        "id": "lahn7iQY00D6",
        "outputId": "94d64e71-83e9-45d6-ad1e-25e1c7ce1294"
      },
      "source": [
        "image_shape = (64, 64)\n",
        "# Load faces data\n",
        "dataset = fetch_olivetti_faces(data_home='./')\n",
        "faces = dataset.data\n",
        "\n",
        "print('Shape of the faces dataset: {}'.format(faces.shape))\n",
        "print('{} data points'.format(faces.shape[0]))"
      ],
      "execution_count": 3,
      "outputs": [
        {
          "output_type": "stream",
          "text": [
            "downloading Olivetti faces from https://ndownloader.figshare.com/files/5976027 to ./\n",
            "Shape of the faces dataset: (400, 4096)\n",
            "400 data points\n"
          ],
          "name": "stdout"
        }
      ]
    },
    {
      "cell_type": "markdown",
      "metadata": {
        "id": "KWIS2Yas01TJ"
      },
      "source": [
        "When your dataset are images, it's a really good idea to see what they look like.\n",
        "\n",
        "One very convenient tool in Jupyter is the interact widget, which we use to visualize the images (faces). For more information on how to use interact, have a look at the documentation [here](http://ipywidgets.readthedocs.io/en/stable/examples/Using%20Interact.html)."
      ]
    },
    {
      "cell_type": "code",
      "metadata": {
        "id": "zadQGBKn1DUS"
      },
      "source": [
        "def show_face(face):\n",
        "    plt.figure()\n",
        "    plt.imshow(face.reshape((64, 64)), cmap='gray')\n",
        "    plt.show()"
      ],
      "execution_count": 4,
      "outputs": []
    },
    {
      "cell_type": "code",
      "metadata": {
        "colab": {
          "base_uri": "https://localhost:8080/",
          "height": 296,
          "referenced_widgets": [
            "94f07a57f9d84b02831b9b2cc925fc56",
            "5a4a181e42304e3f86f716df40e9b45e",
            "1406d9ee57d44b259d545f425aedabbd",
            "47807fbf5825469fb477d24459d5463c",
            "e1609d4dce3c44c583fcdd2f63af6c00",
            "f8bb3295864e4bbeb6fd302e12ef6a22",
            "8c6bd7275aa440c99661f531493ed288"
          ]
        },
        "id": "Ir8YCMjd1GWD",
        "outputId": "313cfb93-e8dc-4fb7-c6d3-16a6260e6bf2"
      },
      "source": [
        "@interact(n=(0, len(faces)-1))\n",
        "def display_faces(n=0):\n",
        "    plt.figure()\n",
        "    plt.imshow(faces[n].reshape((64, 64)), cmap='gray')\n",
        "    plt.show()"
      ],
      "execution_count": 5,
      "outputs": [
        {
          "output_type": "display_data",
          "data": {
            "application/vnd.jupyter.widget-view+json": {
              "model_id": "94f07a57f9d84b02831b9b2cc925fc56",
              "version_minor": 0,
              "version_major": 2
            },
            "text/plain": [
              "interactive(children=(IntSlider(value=0, description='n', max=399), Output()), _dom_classes=('widget-interact'…"
            ]
          },
          "metadata": {
            "tags": []
          }
        }
      ]
    },
    {
      "cell_type": "markdown",
      "metadata": {
        "id": "XteB1D9G1Kl5"
      },
      "source": [
        "# **1. Mean and Covariance of a Dataset**\n"
      ]
    },
    {
      "cell_type": "code",
      "metadata": {
        "id": "inWNxTQ-1Wh7"
      },
      "source": [
        "def mean_naive(X):\n",
        "    \"\"\"Compute the mean for a dataset by iterating over the dataset\n",
        "    \n",
        "    Arguments\n",
        "    ---------\n",
        "    X: (N, D) ndarray representing the dataset.\n",
        "    \n",
        "    Returns\n",
        "    -------\n",
        "    mean: (D, ) ndarray which is the mean of the dataset.\n",
        "    \"\"\"\n",
        "    N, D = X.shape\n",
        "    \n",
        "    mean = np.zeros(D)\n",
        "    for n in range(N):\n",
        "        for i in range(D):\n",
        "            mean[i] = mean[i] + X[n, i]\n",
        "    \n",
        "    mean = mean/N\n",
        "        \n",
        "    return mean\n",
        "\n",
        "# ===YOU SHOULD EDIT THIS FUNCTION===\n",
        "def cov_naive(X):\n",
        "    \"\"\"Compute the covariance for a dataset\n",
        "    Arguments\n",
        "    ---------\n",
        "    X: (N, D) ndarray representing the dataset.\n",
        "    \n",
        "    Returns\n",
        "    -------\n",
        "    covariance: (D, D) ndarray which is the covariance matrix of the dataset.\n",
        "    \n",
        "    \"\"\"\n",
        "    N, D = X.shape\n",
        "    covariance = np.zeros((D, D))\n",
        "    mat = np.zeros((N, D))\n",
        "    mean = mean_naive(X)\n",
        "    for i in range(N):\n",
        "        mat[i] = X[i,:] - mean\n",
        "    for i in range(D):\n",
        "        for j in range(D):\n",
        "            covariance[i, j] = covariance[i, j] + mat[:,i]@mat[:,j]\n",
        "    return covariance/N"
      ],
      "execution_count": 6,
      "outputs": []
    },
    {
      "cell_type": "code",
      "metadata": {
        "colab": {
          "base_uri": "https://localhost:8080/"
        },
        "id": "coSWxcDt1bMD",
        "outputId": "7ee7b9c9-ae56-4d28-e27c-5ae721f14e92"
      },
      "source": [
        "mean_naive(faces)"
      ],
      "execution_count": 7,
      "outputs": [
        {
          "output_type": "execute_result",
          "data": {
            "text/plain": [
              "array([0.4001343 , 0.43423554, 0.47628099, ..., 0.32141529, 0.31364669,\n",
              "       0.31045455])"
            ]
          },
          "metadata": {
            "tags": []
          },
          "execution_count": 7
        }
      ]
    },
    {
      "cell_type": "code",
      "metadata": {
        "id": "lFuvjaCG1d6u"
      },
      "source": [
        "# GRADED FUNCTION: DO NOT EDIT THIS LINE\n",
        "\n",
        "# ===YOU SHOULD EDIT THIS FUNCTION===\n",
        "def mean(X):\n",
        "    \"\"\"Compute the mean for a dataset\n",
        "    \n",
        "    Arguments\n",
        "    ---------\n",
        "    X: (N, D) ndarray representing the dataset.\n",
        "    \n",
        "    Returns\n",
        "    -------\n",
        "    mean: (D, ) ndarray which is the mean of the dataset.\n",
        "    \"\"\"\n",
        "    mean = np.mean(X, axis = 0) # EDIT THIS\n",
        "    return mean\n",
        " \n",
        "# ===YOU SHOULD EDIT THIS FUNCTION===\n",
        "def cov(X):\n",
        "    \"\"\"Compute the covariance for a dataset\n",
        "    Arguments\n",
        "    ---------\n",
        "    X: (N, D) ndarray representing the dataset.\n",
        "    \n",
        "    Returns\n",
        "    -------\n",
        "    covariance_matrix: (D, D) ndarray which is the covariance matrix of the dataset.\n",
        "    \n",
        "    \"\"\"\n",
        "    # It is possible to vectorize our code for computing the covariance, i.e. we do not need to explicitly\n",
        "    # iterate over the entire dataset as looping in Python tends to be slow\n",
        "    N, D = X.shape\n",
        "    covariance_matrix = np.cov(X, rowvar=False, bias=True) # EDIT THIS\n",
        "    return covariance_matrix"
      ],
      "execution_count": 8,
      "outputs": []
    },
    {
      "cell_type": "code",
      "metadata": {
        "colab": {
          "base_uri": "https://localhost:8080/"
        },
        "id": "IGu6PWbp1haA",
        "outputId": "74ac6182-776a-43e1-9ef6-713ec4b44a9d"
      },
      "source": [
        "mean(faces)"
      ],
      "execution_count": 9,
      "outputs": [
        {
          "output_type": "execute_result",
          "data": {
            "text/plain": [
              "array([0.40013435, 0.43423545, 0.4762809 , ..., 0.32141536, 0.3136469 ,\n",
              "       0.31045464], dtype=float32)"
            ]
          },
          "metadata": {
            "tags": []
          },
          "execution_count": 9
        }
      ]
    },
    {
      "cell_type": "code",
      "metadata": {
        "colab": {
          "base_uri": "https://localhost:8080/"
        },
        "id": "zMagaiTG1kVE",
        "outputId": "f32a0d96-0a49-4a7e-e43e-0118f68b81ae"
      },
      "source": [
        "cov(faces)"
      ],
      "execution_count": 10,
      "outputs": [
        {
          "output_type": "execute_result",
          "data": {
            "text/plain": [
              "array([[ 0.03256897,  0.03221722,  0.02860266, ..., -0.00627397,\n",
              "        -0.00599633, -0.00466273],\n",
              "       [ 0.03221722,  0.03582188,  0.03403026, ..., -0.00892454,\n",
              "        -0.00845002, -0.0067429 ],\n",
              "       [ 0.02860266,  0.03403026,  0.03782977, ..., -0.0121586 ,\n",
              "        -0.0113095 , -0.00946599],\n",
              "       ...,\n",
              "       [-0.00627397, -0.00892454, -0.0121586 , ...,  0.03519637,\n",
              "         0.03136033,  0.02796677],\n",
              "       [-0.00599633, -0.00845002, -0.0113095 , ...,  0.03136033,\n",
              "         0.03363069,  0.03122917],\n",
              "       [-0.00466273, -0.0067429 , -0.00946599, ...,  0.02796677,\n",
              "         0.03122917,  0.03254727]])"
            ]
          },
          "metadata": {
            "tags": []
          },
          "execution_count": 10
        }
      ]
    },
    {
      "cell_type": "code",
      "metadata": {
        "colab": {
          "base_uri": "https://localhost:8080/"
        },
        "id": "155dJal81nVR",
        "outputId": "a1a76bef-db9a-4799-bff3-39193c2e1a0a"
      },
      "source": [
        "X = np.random.randn(100, 5)\n",
        "cov(X)"
      ],
      "execution_count": 11,
      "outputs": [
        {
          "output_type": "execute_result",
          "data": {
            "text/plain": [
              "array([[ 1.08567687,  0.01792721, -0.03388004,  0.11939484,  0.01432917],\n",
              "       [ 0.01792721,  0.97535479,  0.14808611,  0.10434311, -0.02611379],\n",
              "       [-0.03388004,  0.14808611,  0.9395391 ,  0.12000943, -0.08078757],\n",
              "       [ 0.11939484,  0.10434311,  0.12000943,  1.04318497, -0.17943156],\n",
              "       [ 0.01432917, -0.02611379, -0.08078757, -0.17943156,  0.92381347]])"
            ]
          },
          "metadata": {
            "tags": []
          },
          "execution_count": 11
        }
      ]
    },
    {
      "cell_type": "code",
      "metadata": {
        "colab": {
          "base_uri": "https://localhost:8080/"
        },
        "id": "KwD9G-vA1sL0",
        "outputId": "70916fe4-ce0c-4d9e-c8c7-a1a9effd2a52"
      },
      "source": [
        "cov_naive(X)"
      ],
      "execution_count": 12,
      "outputs": [
        {
          "output_type": "execute_result",
          "data": {
            "text/plain": [
              "array([[ 1.08567687,  0.01792721, -0.03388004,  0.11939484,  0.01432917],\n",
              "       [ 0.01792721,  0.97535479,  0.14808611,  0.10434311, -0.02611379],\n",
              "       [-0.03388004,  0.14808611,  0.9395391 ,  0.12000943, -0.08078757],\n",
              "       [ 0.11939484,  0.10434311,  0.12000943,  1.04318497, -0.17943156],\n",
              "       [ 0.01432917, -0.02611379, -0.08078757, -0.17943156,  0.92381347]])"
            ]
          },
          "metadata": {
            "tags": []
          },
          "execution_count": 12
        }
      ]
    },
    {
      "cell_type": "markdown",
      "metadata": {
        "id": "ICRdxsvc1uDV"
      },
      "source": [
        "With the mean function implemented, let's take a look at the mean face of our dataset!"
      ]
    },
    {
      "cell_type": "code",
      "metadata": {
        "colab": {
          "base_uri": "https://localhost:8080/",
          "height": 264
        },
        "id": "EvSggDB01xXP",
        "outputId": "ce3791c6-f3c6-4bd2-fde1-ddea59ac8907"
      },
      "source": [
        "def mean_face(faces):\n",
        "    \"\"\"Compute the mean of the `faces`\n",
        "    \n",
        "    Arguments\n",
        "    ---------\n",
        "    faces: (N, 64 * 64) ndarray representing the faces dataset.\n",
        "    \n",
        "    Returns\n",
        "    -------\n",
        "    mean_face: (64, 64) ndarray which is the mean of the faces.\n",
        "    \"\"\"\n",
        "    mean_face = mean(faces)\n",
        "    return mean_face\n",
        "\n",
        "plt.imshow(mean_face(faces).reshape((64, 64)), cmap='gray');"
      ],
      "execution_count": 13,
      "outputs": [
        {
          "output_type": "display_data",
          "data": {
            "image/png": "[encoded data removed]",
            "text/plain": [
              "<Figure size 432x288 with 1 Axes>"
            ]
          },
          "metadata": {
            "tags": [],
            "needs_background": "light"
          }
        }
      ]
    },
    {
      "cell_type": "markdown",
      "metadata": {
        "id": "CaYXcfUj12rS"
      },
      "source": [
        "One of the advantage of writing vectorized code is speedup gained when working on larger dataset. Loops in Python are slow, and most of the time you want to utilise the fast native code provided by Numpy without explicitly using for loops. To put things into perspective, we can benchmark the two different implementation with the %time function in the following way:"
      ]
    },
    {
      "cell_type": "code",
      "metadata": {
        "colab": {
          "base_uri": "https://localhost:8080/"
        },
        "id": "IT3qy_we15S2",
        "outputId": "a2c9d20e-8a49-4d1c-9367-97a6b23fca29"
      },
      "source": [
        "# We have some huge data matrix, and we want to compute its mean\n",
        "X = np.random.randn(100000, 20)\n",
        "# Benchmarking time for computing mean\n",
        "%time mean_naive(X)\n",
        "%time mean(X)\n",
        "pass"
      ],
      "execution_count": 14,
      "outputs": [
        {
          "output_type": "stream",
          "text": [
            "CPU times: user 1.02 s, sys: 1.72 ms, total: 1.02 s\n",
            "Wall time: 1.02 s\n",
            "CPU times: user 3.01 ms, sys: 0 ns, total: 3.01 ms\n",
            "Wall time: 3.02 ms\n"
          ],
          "name": "stdout"
        }
      ]
    },
    {
      "cell_type": "code",
      "metadata": {
        "colab": {
          "base_uri": "https://localhost:8080/"
        },
        "id": "Aj0ieLLp18KT",
        "outputId": "377f1e95-1df9-4e63-de10-20e740527e5b"
      },
      "source": [
        "# Benchmarking time for computing covariance\n",
        "%time cov_naive(X)\n",
        "%time cov(X)\n",
        "pass"
      ],
      "execution_count": 15,
      "outputs": [
        {
          "output_type": "stream",
          "text": [
            "CPU times: user 1.71 s, sys: 33.8 ms, total: 1.74 s\n",
            "Wall time: 1.47 s\n",
            "CPU times: user 25.7 ms, sys: 16 ms, total: 41.7 ms\n",
            "Wall time: 20.9 ms\n"
          ],
          "name": "stdout"
        }
      ]
    },
    {
      "cell_type": "markdown",
      "metadata": {
        "id": "3eOtK8ND1_9o"
      },
      "source": [
        "Alternatively, we can also see how running time increases as we increase the size of our dataset. In the following cell, we run mean, mean_naive and cov, cov_naive for many times on different sizes of the dataset and collect their running time. If you are less familiar with Python, you may want to spend some time understanding what the code does. Understanding how your code scales with the size of your dataset (or dimensionality of the dataset) is crucial when you want to apply your algorithm to larger dataset. This is really important when we propose alternative methods a more efficient algorithms to solve the same problem. We will use these techniques again later in this course to analyze the running time of our code."
      ]
    },
    {
      "cell_type": "code",
      "metadata": {
        "id": "0-X3gh9n2C3P"
      },
      "source": [
        "def time(f, repeat=100):\n",
        "    \"\"\"A helper function to time the execution of a function.\n",
        "    \n",
        "    Arguments\n",
        "    ---------\n",
        "    f: a function which we want to time it.\n",
        "    repeat: the number of times we want to execute `f`\n",
        "    \n",
        "    Returns\n",
        "    -------\n",
        "    the mean and standard deviation of the execution.\n",
        "    \"\"\"\n",
        "    times = []\n",
        "    for _ in range(repeat):\n",
        "        start = timeit.default_timer()\n",
        "        f()\n",
        "        stop = timeit.default_timer()\n",
        "        times.append(stop-start)\n",
        "    return np.mean(times), np.std(times)"
      ],
      "execution_count": 16,
      "outputs": []
    },
    {
      "cell_type": "code",
      "metadata": {
        "id": "-aaNe4pn2Gvz"
      },
      "source": [
        "fast_time = []\n",
        "slow_time = []\n",
        "\n",
        "for size in np.arange(100, 5000, step=100):\n",
        "    X = np.random.randn(size, 20)\n",
        "    f = lambda : mean(X)\n",
        "    mu, sigma = time(f)\n",
        "    fast_time.append((size, mu, sigma))\n",
        "    \n",
        "    f = lambda : mean_naive(X)\n",
        "    mu, sigma = time(f)\n",
        "    slow_time.append((size, mu, sigma))\n",
        "\n",
        "fast_time = np.array(fast_time)\n",
        "slow_time = np.array(slow_time)"
      ],
      "execution_count": 17,
      "outputs": []
    },
    {
      "cell_type": "code",
      "metadata": {
        "colab": {
          "base_uri": "https://localhost:8080/",
          "height": 279
        },
        "id": "J9s9Mqjl2J5J",
        "outputId": "1b8ec267-ebeb-418b-f6d7-0b0916dee1ab"
      },
      "source": [
        "fig, ax = plt.subplots()\n",
        "ax.errorbar(fast_time[:,0], fast_time[:,1], fast_time[:,2], label='fast mean', linewidth=2)\n",
        "ax.errorbar(slow_time[:,0], slow_time[:,1], slow_time[:,2], label='naive mean', linewidth=2)\n",
        "ax.set_xlabel('size of dataset')\n",
        "ax.set_ylabel('running time')\n",
        "plt.legend();"
      ],
      "execution_count": 18,
      "outputs": [
        {
          "output_type": "display_data",
          "data": {
            "image/png": "[encoded data removed]",
            "text/plain": [
              "<Figure size 432x288 with 1 Axes>"
            ]
          },
          "metadata": {
            "tags": [],
            "needs_background": "light"
          }
        }
      ]
    },
    {
      "cell_type": "code",
      "metadata": {
        "id": "FWumnMav2Mbj"
      },
      "source": [
        "## === FILL IN THIS, follow the approach we have above ===\n",
        "fast_time_cov = []\n",
        "slow_time_cov = []\n",
        "for size in np.arange(100, 5000, step=100):\n",
        "    X = np.random.randn(size, 20)\n",
        "    f = lambda : cov(X)               # EDIT THIS\n",
        "    mu, sigma = time(f) # EDIT THIS\n",
        "    fast_time_cov.append((size, mu, sigma))\n",
        "    \n",
        "    f = lambda :cov_naive(X)        # EDIT THIS\n",
        "    mu, sigma = time(f) # EDIT THIS\n",
        "    slow_time_cov.append((size, mu, sigma))\n",
        "\n",
        "fast_time_cov = np.array(fast_time_cov)\n",
        "slow_time_cov = np.array(slow_time_cov)"
      ],
      "execution_count": 19,
      "outputs": []
    },
    {
      "cell_type": "code",
      "metadata": {
        "colab": {
          "base_uri": "https://localhost:8080/",
          "height": 279
        },
        "id": "VibAAHbz2PLI",
        "outputId": "166eb13f-0d31-4443-bf07-d1a84c121339"
      },
      "source": [
        "fig, ax = plt.subplots()\n",
        "ax.errorbar(fast_time_cov[:,0], fast_time_cov[:,1], fast_time_cov[:,2], label='fast covariance', linewidth=2)\n",
        "ax.errorbar(slow_time_cov[:,0], slow_time_cov[:,1], slow_time_cov[:,2], label='naive covariance', linewidth=2)\n",
        "ax.set_xlabel('size of dataset')\n",
        "ax.set_ylabel('running time')\n",
        "plt.legend();"
      ],
      "execution_count": 20,
      "outputs": [
        {
          "output_type": "display_data",
          "data": {
            "image/png": "[encoded data removed]",
            "text/plain": [
              "<Figure size 432x288 with 1 Axes>"
            ]
          },
          "metadata": {
            "tags": [],
            "needs_background": "light"
          }
        }
      ]
    },
    {
      "cell_type": "markdown",
      "metadata": {
        "id": "xbeYv9Fh2Tzr"
      },
      "source": [
        "# **2. Affine Transformation of Dataset**\n",
        "In this week we are also going to verify a few properties about the mean and covariance of affine transformation of random variables.\n",
        "\n",
        "Consider a data matrix  𝑋  of size (N, D). We would like to know what is the covariance when we apply affine transformation  𝐴𝑥𝑖+𝑏  for each datapoint  𝑥𝑖  in  𝑋 . i.e. we would like to know what happens to the mean and covariance for the new dataset if we apply affine transformation."
      ]
    },
    {
      "cell_type": "code",
      "metadata": {
        "id": "t1IaE4KC2cmP"
      },
      "source": [
        "# GRADED FUNCTION: DO NOT EDIT THIS LINE\n",
        "\n",
        "# ===YOU SHOULD EDIT THIS FUNCTION===\n",
        "def affine_mean(mean, A, b):\n",
        "    \"\"\"Compute the mean after affine transformation\n",
        "    Args:\n",
        "        mean: ndarray, the mean vector\n",
        "        A, b: affine transformation applied to x\n",
        "    Returns:\n",
        "        mean vector after affine transformation\n",
        "    \"\"\"\n",
        "    affine_m = np.zeros(mean.shape) # EDIT THIS\n",
        "    affine_m = A@mean + b\n",
        "    return affine_m\n",
        "\n",
        "# ===YOU SHOULD EDIT THIS FUNCTION===\n",
        "def affine_covariance(S, A, b):\n",
        "    \"\"\"Compute the covariance matrix after affine transformation\n",
        "    Args:\n",
        "        S: ndarray, the covariance matrix\n",
        "        A, b: affine transformation applied to each element in X        \n",
        "    Returns:\n",
        "        covariance matrix after the transformation\n",
        "    \"\"\"\n",
        "    affine_cov = np.zeros(S.shape) # EDIT THIS\n",
        "    affine_cov = A@S@A.T\n",
        "    return affine_cov"
      ],
      "execution_count": 21,
      "outputs": []
    },
    {
      "cell_type": "markdown",
      "metadata": {
        "id": "zOid5NxK2fQv"
      },
      "source": [
        "Once the two functions above are implemented, we can verify the correctness our implementation. Assuming that we have some  𝐴  and  𝑏 "
      ]
    },
    {
      "cell_type": "code",
      "metadata": {
        "id": "MsBl5JDJ2hsT"
      },
      "source": [
        "random = np.random.RandomState(42)\n",
        "A = random.randn(4,4)\n",
        "b = random.randn(4)"
      ],
      "execution_count": 22,
      "outputs": []
    },
    {
      "cell_type": "markdown",
      "metadata": {
        "id": "KvFzu73r2krt"
      },
      "source": [
        "Next we can generate some random dataset  𝑋"
      ]
    },
    {
      "cell_type": "code",
      "metadata": {
        "id": "PAA05Fzm2nXJ"
      },
      "source": [
        "X = random.randn(100, 4)"
      ],
      "execution_count": 23,
      "outputs": []
    },
    {
      "cell_type": "markdown",
      "metadata": {
        "id": "h4E437nR2q6d"
      },
      "source": [
        "Assuming that for some dataset  𝑋 , the mean and covariance are  𝑚 ,  𝑆 , and for the new dataset after affine transformation  𝑋′ , the mean and covariance are  𝑚′  and  𝑆′ , then we would have the following identity:\n",
        "\n",
        "\n",
        "\n",
        "> 𝑚′=affine_mean(𝑚,𝐴,𝑏)\n",
        "\n",
        "\n",
        "> 𝑆′=affine_covariance(𝑆,𝐴,𝑏)\n",
        "\n",
        "\n",
        "\n"
      ]
    },
    {
      "cell_type": "code",
      "metadata": {
        "id": "FGxihYqI2zBp"
      },
      "source": [
        "X1 = ((A @ (X.T)).T + b)  # applying affine transformation once\n",
        "X2 = ((A @ (X1.T)).T + b) # and again"
      ],
      "execution_count": 24,
      "outputs": []
    },
    {
      "cell_type": "code",
      "metadata": {
        "colab": {
          "base_uri": "https://localhost:8080/"
        },
        "id": "8SkUTCZL3O_H",
        "outputId": "981ecf2f-b9c2-4b5b-ccb1-78aacee26439"
      },
      "source": [
        "np.testing.assert_almost_equal(mean(X1), affine_mean(mean(X), A, b))\n",
        "np.testing.assert_almost_equal(cov(X1),  affine_covariance(cov(X), A, b))\n",
        "print('correct')"
      ],
      "execution_count": 25,
      "outputs": [
        {
          "output_type": "stream",
          "text": [
            "correct\n"
          ],
          "name": "stdout"
        }
      ]
    },
    {
      "cell_type": "code",
      "metadata": {
        "colab": {
          "base_uri": "https://localhost:8080/"
        },
        "id": "kLTCVbu93S49",
        "outputId": "d2d4223c-6680-4db0-9943-302fbdcf28ac"
      },
      "source": [
        "np.testing.assert_almost_equal(mean(X2), affine_mean(mean(X1), A, b))\n",
        "np.testing.assert_almost_equal(cov(X2),  affine_covariance(cov(X1), A, b))\n",
        "print('correct')"
      ],
      "execution_count": 26,
      "outputs": [
        {
          "output_type": "stream",
          "text": [
            "correct\n"
          ],
          "name": "stdout"
        }
      ]
    },
    {
      "cell_type": "markdown",
      "metadata": {
        "id": "573ZTHXh3UWL"
      },
      "source": [
        "One very useful way to compare whether arrays are equal/similar is use the helper functions in numpy.testing.\n",
        "\n",
        "Check the Numpy [documentation](https://docs.scipy.org/doc/numpy-1.13.0/reference/routines.testing.html) for details.\n",
        "\n",
        "If you are interested in learning more about floating point arithmetic, here is a good [paper](http://citeseerx.ist.psu.edu/viewdoc/summary?doi=10.1.1.22.6768)."
      ]
    }
  ]
}